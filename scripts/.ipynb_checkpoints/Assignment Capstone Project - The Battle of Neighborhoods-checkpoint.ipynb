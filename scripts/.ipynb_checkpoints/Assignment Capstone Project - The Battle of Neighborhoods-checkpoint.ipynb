{
 "cells": [
  {
   "cell_type": "markdown",
   "metadata": {},
   "source": [
    "# Assignment: Capstone Project - The Battle of Neighborhoods"
   ]
  },
  {
   "cell_type": "markdown",
   "metadata": {},
   "source": [
    "### Introduction/Business Problem\n",
    "\n",
    "Bogotá is the metropolitan center of Colombia, which is located at 2,600 meters above sea level. This city offers varied artistic expressions such as museum exhibits, dance, theater, music, and splendid cuisine ([1](#ref1)). There are also hundreds of places to go to eat and frequent food festivals ([2](#ref2)), and consequently, the catering industry could be a very competitive field in this city.\n",
    "\n",
    "In this project, the data available on restaurants and territorial distribution of Bogotá will be used to analyze and cluster different locations in which a restaurant could be potentially be established. It is also expected that the information analyzed can be useful to obtain a preliminary insight into the most appropriate types of restaurants and the users that are most likely to visit them. The results obtained in this study could be of interest to businessmen or investors that want to open a restaurant in Bogota, Colombia."
   ]
  },
  {
   "cell_type": "markdown",
   "metadata": {},
   "source": [
    "### Data acquisition \n",
    "\n",
    "The necessary data to perform the analysis of the best locations for a restaurant in Bogotá, Colombia will be obtained from the following sources.\n",
    "- Lists of the boroughs and neighborhoods and their geospatial position will be obtained from www.bogota-laburbano.opendatasoft.com.\n",
    "- Data about the territorial distribution of Bogotá will also be acquired from www.bogota-laburbano.opendatasoft.com. This web page contains information about tourist, urban and company areas in Bogotá.\n",
    "- The types and location of each restaurant in all the neighborhoods will be obtained from Foursquare API (www.foursquare.com).\n"
   ]
  },
  {
   "cell_type": "markdown",
   "metadata": {},
   "source": [
    "### References\n",
    "\n",
    "(1<a name=\"ref1\"></a>) Visit Colombia feel the rhythm (2021/01) Tourism in Bogota: a city for experiencing culture. https://colombia.travel/en/blog/tourism-bogota-city-experiencing-culture\n",
    "\n",
    "(2<a name=\"ref2\"></a>) Tripadvisor. (2021/01) Explora Bogotá. https://www.tripadvisor.co/Tourism-g294074-Bogota-Vacations.html\n"
   ]
  },
  {
   "cell_type": "code",
   "execution_count": null,
   "metadata": {},
   "outputs": [],
   "source": []
  }
 ],
 "metadata": {
  "kernelspec": {
   "display_name": "Python 3",
   "language": "python",
   "name": "python3"
  },
  "language_info": {
   "codemirror_mode": {
    "name": "ipython",
    "version": 3
   },
   "file_extension": ".py",
   "mimetype": "text/x-python",
   "name": "python",
   "nbconvert_exporter": "python",
   "pygments_lexer": "ipython3",
   "version": "3.8.5"
  }
 },
 "nbformat": 4,
 "nbformat_minor": 4
}
